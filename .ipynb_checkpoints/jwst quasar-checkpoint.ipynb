{
 "cells": [
  {
   "cell_type": "code",
   "execution_count": 2,
   "metadata": {},
   "outputs": [],
   "source": [
    "%matplotlib inline\n",
    "import numpy as np\n",
    "import matplotlib.pyplot as plt\n",
    "from astropy.io import ascii, fits\n",
    "from lsdlib import read_input\n",
    "import astropy.units as u\n",
    "from matplotlib.ticker import MultipleLocator, FormatStrFormatter, LinearLocator, FixedLocator\n",
    "from glob import glob\n",
    "import os\n",
    "#from array_utils import get_ind\n",
    "\n",
    "plt.rc('font',**{'family':'sans-serif','sans-serif':['Helvetica']})\n",
    "plt.rc('text', usetex=True)\n",
    "\n",
    "plt.rc('xtick',  labelsize='x-large')\n",
    "plt.rc('ytick',  labelsize='x-large')\n",
    "plt.rc('axes', labelsize='xx-large')\n",
    "plt.rc('text', usetex=True)"
   ]
  },
  {
   "cell_type": "code",
   "execution_count": 7,
   "metadata": {},
   "outputs": [],
   "source": [
    "##Loading info\n",
    "#\n",
    "qso = ascii.read(\"templates/z75qso.dat\")\n",
    "wave_mu = qso['lambda_mu']/ (1+7.5)\n",
    "\n",
    "#starburst99 model\n",
    "s99 = ascii.read(\"templates/starburst99_host_models_z75_lines.txt\") \n",
    "wave_host_mu = s99['wave'] / (1+7.5)\n",
    "\n",
    "flux = qso['flux_mjy'] \n",
    "flux_host = s99[\"300Myr_0.2\"]\n",
    "\n",
    "nirspec = {\"G140H/F070LP\":{\"wmin\":.7, \"wmax\":1.27, \"ypos\":0.52},\n",
    "           \"G140H/F100LP\":{\"wmin\":.97, \"wmax\":1.89, \"ypos\":0.71},\n",
    "           \"G235H/F170LP\":{\"wmin\":1.66, \"wmax\":3.17, \"ypos\":0.52},\n",
    "           \"G395H(M)/F290LP\":{\"wmin\":2.87, \"wmax\":5.27, \"ypos\":0.71}\n",
    "        }\n",
    "\n",
    "miri = {\n",
    "        \"SHORT1\":{\"wmin\":4.89, \"wmax\":5.75, \"ypos\":0.78},\n",
    "        \"SHORT2\":{\"wmin\":7.49, \"wmax\":8.78, \"ypos\":0.78},\n",
    "        \"SHORT3\":{\"wmin\":11.53, \"wmax\":13.48, \"ypos\":0.78},\n",
    "        \"SHORT4\":{\"wmin\":17.66, \"wmax\":20.92, \"ypos\":0.78}, \n",
    "        \"MEDIUM1\":{\"wmin\":5.65, \"wmax\":6.64, \"ypos\":0.61},\n",
    "        \"MEDIUM2\":{\"wmin\":8.65, \"wmax\":10.14, \"ypos\":0.61},\n",
    "        \"MEDIUM3\":{\"wmin\":13.37, \"wmax\":15.63, \"ypos\":0.61},\n",
    "        \"MEDIUM4\":{\"wmin\":20.54, \"wmax\":24.4, \"ypos\":0.61}, \n",
    "        \"LONG1\":{\"wmin\":6.52, \"wmax\":7.66, \"ypos\":0.43},\n",
    "        \"LONG2\":{\"wmin\":9.99, \"wmax\":11.71, \"ypos\":0.43},\n",
    "        \"LONG3\":{\"wmin\":15.44, \"wmax\":18.05, \"ypos\":0.43},\n",
    "        \"LONG4\":{\"wmin\":23.95, \"wmax\":28.45, \"ypos\":0.43}, \n",
    "}"
   ]
  },
  {
   "cell_type": "code",
   "execution_count": 12,
   "metadata": {},
   "outputs": [],
   "source": [
    "nircam_path = \"filters/jwst/nircam_throughputs/modAB_mean/nrc_plus_ote/\"\n",
    "nircam_wide = glob(nircam_path + \"F*W_*txt\")\n",
    "nircam_medium = glob(nircam_path + \"F*M_*txt\")\n",
    "nircam_narrow = glob(nircam_path + \"F*N_*txt\")\n",
    "\n",
    "miri_path = 'filters/jwst/miri/'\n",
    "miri_filters = glob(miri_path + \"J*dat\")"
   ]
  },
  {
   "cell_type": "markdown",
   "metadata": {},
   "source": [
    "### plotting stuff\n"
   ]
  },
  {
   "cell_type": "code",
   "execution_count": 13,
   "metadata": {},
   "outputs": [],
   "source": [
    "def plot_lines(line_label, line_wave, line_yloc, ax, redshift=6.0):\n",
    "    zp1 = 1+redshift\n",
    "    for w, l, y in zip(line_wave, line_label, line_yloc):\n",
    "        ax.text(w * zp1, y, l, horizontalalignment='center', fontsize='large')"
   ]
  },
  {
   "cell_type": "code",
   "execution_count": 14,
   "metadata": {},
   "outputs": [],
   "source": [
    "\n",
    "def plot_nircam_filters(ax):\n",
    "    plot_filterset(ax, nircam_wide, 'xkcd:blue', 0.1)\n",
    "    plot_filterset(ax, nircam_medium, 'xkcd:coral', 0.25)\n",
    "    plot_filterset(ax, nircam_narrow, 'xkcd:lime', 0.4)\n",
    "    "
   ]
  },
  {
   "cell_type": "code",
   "execution_count": 15,
   "metadata": {},
   "outputs": [],
   "source": [
    "def plot_filterset(ax, filenames, color, yloc, miri=False):\n",
    "    text_kwargs = dict(fontsize='x-large', ha='center', va='center', weight='black')\n",
    "    for filename in filenames:\n",
    "        d = ascii.read(filename)\n",
    "        b = os.path.basename(filename)\n",
    "        if miri:\n",
    "            wave = d['angstrom']/1e4\n",
    "            name = b.split(\".\")[1]\n",
    "#             print(wave)\n",
    "        else:\n",
    "            wave = d['microns']\n",
    "            name = b.split(\"_\")[0]\n",
    "        \n",
    "        xloc = np.float(name[1:-1])/100.\n",
    "        \n",
    "        ax.fill_between(wave, d['throughput'], edgecolor=color, facecolor=color, alpha=0.3)\n",
    "        ax.plot(wave, d['throughput'], color=color, alpha=0.4)\n",
    "        #ax.text(xloc, yloc, name, color=color, **text_kwargs)\n",
    "        "
   ]
  },
  {
   "cell_type": "code",
   "execution_count": 16,
   "metadata": {},
   "outputs": [],
   "source": [
    "def plot_nirspec_setup(ax, setup, color):\n",
    "    for name in setup:\n",
    "        di  = setup[name]\n",
    "        ax.hlines(di[\"ypos\"], di[\"wmin\"], di[\"wmax\"], color=color, lw=2, alpha=0.5)\n",
    "        xx = ( di[\"wmin\"] + di[\"wmax\"]) * 0.5\n",
    "        ax.text(xx, di[\"ypos\"]+0.01, name, color=color, ha='center', fontsize='medium')\n",
    "        \n"
   ]
  },
  {
   "cell_type": "code",
   "execution_count": 17,
   "metadata": {},
   "outputs": [],
   "source": [
    "def plot_qso(ax, redshift):\n",
    "    zp1=1+redshift\n",
    "    ax.plot(wave_mu * zp1, flux*1.2, color='xkcd:black',lw=3, zorder=2)\n",
    "    \n",
    "    \n",
    "def plot_host(ax, redshift, factor=1):\n",
    "    zp1=1+redshift\n",
    "    ax.plot(wave_host_mu * zp1, flux_host * factor, color='xkcd:orange',lw=3, zorder=1)"
   ]
  },
  {
   "cell_type": "code",
   "execution_count": 18,
   "metadata": {},
   "outputs": [],
   "source": [
    "def plot_nirspec_panel(ax1, ax2, redshift):\n",
    "    #xaxis\n",
    "    x1ticks = np.arange(0.5, 5.5, 0.5)\n",
    "    xmin = 0.6\n",
    "    xmax = 5.3\n",
    "    minorLocatorx= FixedLocator(np.arange(0.75, 5.5, 0.25))  \n",
    "    for a in [ax1, ax2]:\n",
    "        a.set_xticks(x1ticks)\n",
    "        a.xaxis.set_minor_locator(minorLocatorx)\n",
    "        a.set_xlim(xmin, xmax)\n",
    "        #plt.setp(a, yticks=[])\n",
    "    #yaxis\n",
    "    plt.setp(ax2, xticklabels=[])\n",
    "    plt.setp(ax1, yticklabels=[], yticks=[])\n",
    "    # ax1.locator_params(axis='y', nbins=3)\n",
    "    \n",
    "    ax2.set_ylabel(\"$\\mathrm{Spectrum\\\\ (mJy)}$\")\n",
    "    \n",
    "    ##UPPER PANEL\n",
    "    plot_qso(ax2, redshift)\n",
    "    #host\n",
    "    plot_host(ax2, redshift, factor=30)\n",
    "    ax2.text(4.5, 0.06, r\"$\\mathrm{Host }$\", color='xkcd:orange', \n",
    "             fontsize=\"xx-large\", weight='bold')\n",
    "    #Plot lines\n",
    "    line_label = [ r'Ly$\\alpha$+N$\\,$V', r'C$\\,$IV', r'Mg$\\,$II',\n",
    "                  r'C$\\,$III] + Fe$\\,$III', r'H$\\,\\beta$' + r'+ [O$\\,$III]']\n",
    "    line_wave = [1270/1e4-0.01, 1546.15/1e4, 2800.26/1e4, \n",
    "                 1905.97/1e4, 4835/1e4+0.01]\n",
    "    line_yloc = [0.13, 0.15 ,.15,.12, 0.18]\n",
    "    plot_lines(line_label, line_wave, line_yloc, ax=ax2, redshift=redshift)\n",
    "    \n",
    "    ax2.set_ylim(0.035,0.2)\n",
    "    \n",
    "    #LOWER PANEL\n",
    "    ax1.set_ylim(0., 0.85)\n",
    "    ax1.set_ylabel(\"$\\mathrm{Filters}$\")\n",
    "    ax1.set_xlabel(r'$\\mathrm{Wavelength}\\; (\\mu{\\rm m})$')\n",
    "    #Plot NIRCAM filters\n",
    "    plot_nircam_filters(ax1)\n",
    "    \n",
    "    \n",
    "    plot_nirspec_setup(ax1, nirspec, color='xkcd:blue')"
   ]
  },
  {
   "cell_type": "code",
   "execution_count": 19,
   "metadata": {},
   "outputs": [],
   "source": [
    "def plot_miri_panel(ax1, ax2, redshift):\n",
    "    #xaxis\n",
    "    xmin = 5\n",
    "    xmax = 30\n",
    "    x1ticks = np.arange(xmin, xmax, 5)\n",
    "    \n",
    "    minorLocatorx= FixedLocator(np.arange(xmin, xmax, 1))  \n",
    "    for a in [ax1, ax2]:\n",
    "        a.set_xticks(x1ticks)\n",
    "        a.xaxis.set_minor_locator(minorLocatorx)\n",
    "        a.set_xlim(xmin, xmax)\n",
    "        #plt.setp(a, yticks=[])\n",
    "    #yaxis\n",
    "    #plt.setp(ax2, yticks=[],xticklabels=[])\n",
    "    plt.setp(ax2, xticklabels=[])\n",
    "    plt.setp(ax1, yticklabels=[], yticks=[])\n",
    "    #ax1.locator_params(axis='y', nbins=3)\n",
    "    \n",
    "    ax2.set_ylabel(\"$\\mathrm{Spectrum\\\\ (mJy)}$\")\n",
    "    \n",
    "    ##UPPER PANEL\n",
    "    plot_qso(ax2, redshift)\n",
    "    #host\n",
    "    plot_host(ax2, redshift, factor=30)\n",
    "    ax2.text(24, 0.05, r\"$\\mathrm{Host }\\times 30$\", color='xkcd:orange', \n",
    "              fontsize=\"xx-large\", weight='bold')\n",
    "    ax2.text(3.3 * (1+redshift) -2., 0.5, r\"$3.3\\,\\mu m\\, \\mathrm{PAH}$\", color='xkcd:orange', \n",
    "            fontsize='x-large')\n",
    "    #Plot lines\n",
    "    line_label = [ r'H$\\, \\alpha$', r'Pa$\\, \\alpha$',   r'Pa$\\, \\beta$', r'Pa$\\, \\gamma+\\delta$']\n",
    "    line_wave = [6564.93/1e4, 1.87,  1.28, 1.06, ]\n",
    "    line_yloc = [0.3, 0.26, 0.26, 0.26, 0.26]\n",
    "    plot_lines(line_label, line_wave, line_yloc, ax=ax2, redshift=redshift)\n",
    "    \n",
    "    ax2.set_ylim(0.01 ,0.35)#1.)\n",
    "    \n",
    "    #LOWER PANEL\n",
    "    ax1.set_ylim(0., 0.85)\n",
    "    ax1.set_ylabel(\"$\\mathrm{Filters}$\")\n",
    "    ax1.set_xlabel(r'$\\mathrm{Wavelength}\\; (\\mu{\\rm m})$')\n",
    "    #Plot NIRCAM filters\n",
    "    #plot_nircam_filters(ax1)\n",
    "    miri_path = '/Users/ebanados/Dropbox/telescope_filters/jwst/miri/'\n",
    "    miri_filters = glob(miri_path + \"J*dat\")\n",
    "    plot_filterset(ax1, miri_filters, color='xkcd:purple', yloc=0.45, miri=True)\n",
    "    \n",
    "    plot_nirspec_setup(ax1, miri, color='xkcd:red')\n"
   ]
  },
  {
   "cell_type": "code",
   "execution_count": 22,
   "metadata": {},
   "outputs": [
    {
     "data": {
      "text/plain": [
       "['filters/jwst/nircam_throughputs/modAB_mean/nrc_plus_ote/F150W_NRC_and_OTE_ModAB_mean.txt',\n",
       " 'filters/jwst/nircam_throughputs/modAB_mean/nrc_plus_ote/F444W_NRC_and_OTE_ModAB_mean.txt',\n",
       " 'filters/jwst/nircam_throughputs/modAB_mean/nrc_plus_ote/F356W_NRC_and_OTE_ModAB_mean.txt',\n",
       " 'filters/jwst/nircam_throughputs/modAB_mean/nrc_plus_ote/F277W_NRC_and_OTE_ModAB_mean.txt',\n",
       " 'filters/jwst/nircam_throughputs/modAB_mean/nrc_plus_ote/F090W_NRC_and_OTE_ModAB_mean.txt',\n",
       " 'filters/jwst/nircam_throughputs/modAB_mean/nrc_plus_ote/F070W_NRC_and_OTE_ModAB_mean.txt',\n",
       " 'filters/jwst/nircam_throughputs/modAB_mean/nrc_plus_ote/F115W_NRC_and_OTE_ModAB_mean.txt',\n",
       " 'filters/jwst/nircam_throughputs/modAB_mean/nrc_plus_ote/F200W_NRC_and_OTE_ModAB_mean.txt']"
      ]
     },
     "execution_count": 22,
     "metadata": {},
     "output_type": "execute_result"
    }
   ],
   "source": [
    "plot_jwst_qso(redshift, out=None):\n",
    "    fig = plt.figure(figsize=(12, 8.))\n",
    "    #x0, y0 dx dy\n",
    "    bottom = 0.1\n",
    "    left = 0.1\n",
    "    h_w = 0.8\n",
    "    v_w = 0.21\n",
    "    sep= 0.09\n",
    "\n",
    "    ax1 = fig.add_axes([left, bottom, h_w, v_w])\n",
    "    ax2 = fig.add_axes([left, bottom+v_w, h_w, v_w])\n",
    "    ax3 = fig.add_axes([left, bottom+2*v_w+sep, h_w, v_w])\n",
    "    ax4 = fig.add_axes([left, bottom+3*v_w+sep, h_w, v_w])\n",
    "\n",
    "\n",
    "    plot_nirspec_panel(ax3, ax4, redshift=redshift)\n",
    "    plot_miri_panel(ax1, ax2, redshift=redshift)\n",
    "    ax4.set_title(\"$\\mathrm{Quasar\\\\ at\\\\ }z=\"+\"{0:.4f}$\".format(redshift), fontsize=20)\n",
    "\n",
    "    outname1 = 'jwstfilters_qso+host' +str(redshift) \n",
    "    outname1 = 'j0439-jwstfilters_qso+host' +str(redshift) \n",
    "    if out is not None:\n",
    "        plt.savefig(out+'.pdf', bbox_inches='tight', dpi=300)\n"
   ]
  },
  {
   "cell_type": "code",
   "execution_count": null,
   "metadata": {},
   "outputs": [],
   "source": []
  }
 ],
 "metadata": {
  "kernelspec": {
   "display_name": "Python 3",
   "language": "python",
   "name": "python3"
  },
  "language_info": {
   "codemirror_mode": {
    "name": "ipython",
    "version": 3
   },
   "file_extension": ".py",
   "mimetype": "text/x-python",
   "name": "python",
   "nbconvert_exporter": "python",
   "pygments_lexer": "ipython3",
   "version": "3.7.6"
  }
 },
 "nbformat": 4,
 "nbformat_minor": 4
}
